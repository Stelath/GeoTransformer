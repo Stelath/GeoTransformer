{
 "cells": [
  {
   "cell_type": "code",
   "execution_count": 1,
   "id": "2e31efe2-e025-43a6-94d9-fcf625686421",
   "metadata": {
    "tags": []
   },
   "outputs": [
    {
     "name": "stdout",
     "output_type": "stream",
     "text": [
      "Jupyter environment detected. Enabling Open3D WebVisualizer.\n",
      "[Open3D INFO] WebRTC GUI backend enabled.\n",
      "[Open3D INFO] WebRTCWindowSystem: HTTP handshake server disabled.\n",
      "Point cloud saved as /project/bli4/maps/wacv/GeoTransformer/data/Rellis/kitti_001786.ply\n",
      "Point cloud saved as /project/bli4/maps/wacv/GeoTransformer/data/Rellis/kitti_001777.ply\n"
     ]
    }
   ],
   "source": [
    "import numpy as np\n",
    "import open3d as o3d\n",
    "\n",
    "# Step 1: Read the .bin file\n",
    "def read_bin_file(bin_file_path):\n",
    "    point_cloud = np.fromfile(bin_file_path, dtype=np.float32).reshape(-1, 4)\n",
    "    return point_cloud[:, :3]  # Keep only X, Y, Z\n",
    "\n",
    "\n",
    "# Step 2: Convert point cloud data to Open3D format\n",
    "def convert_bin_to_ply(bin_file_path, output_ply_path):\n",
    "    # Read point cloud data\n",
    "    points = read_bin_file(bin_file_path)\n",
    "    \n",
    "    # Create an Open3D point cloud object\n",
    "    point_cloud = o3d.geometry.PointCloud()\n",
    "    point_cloud.points = o3d.utility.Vector3dVector(points)\n",
    "    \n",
    "    # Save the point cloud as a .ply file\n",
    "    o3d.io.write_point_cloud(output_ply_path, point_cloud)\n",
    "    print(f\"Point cloud saved as {output_ply_path}\")\n",
    "\n",
    "# Step 3: Use the conversion function to convert .bin to .ply\n",
    "bin_file_1 = \"/project/bli4/maps/wacv/GeoTransformer/data/Kitti/sequences/08/velodyne/001786.bin\"\n",
    "bin_file_2 = \"/project/bli4/maps/wacv/GeoTransformer/data/Kitti/sequences/08/velodyne/001777.bin\"\n",
    "\n",
    "# Convert to .ply files\n",
    "convert_bin_to_ply(bin_file_1, \"/project/bli4/maps/wacv/GeoTransformer/data/Rellis/kitti_001786.ply\")\n",
    "convert_bin_to_ply(bin_file_2, \"/project/bli4/maps/wacv/GeoTransformer/data/Rellis/kitti_001777.ply\")\n"
   ]
  },
  {
   "cell_type": "code",
   "execution_count": null,
   "id": "0e63b06f-8b2f-48c5-a78b-3f16aa4735b5",
   "metadata": {},
   "outputs": [],
   "source": []
  },
  {
   "cell_type": "code",
   "execution_count": 4,
   "id": "3a25cfd9-dde4-478e-9987-89ec1771cc2b",
   "metadata": {},
   "outputs": [
    {
     "name": "stdout",
     "output_type": "stream",
     "text": [
      "Error（p1 to p2）：1.1436139778232353\n",
      "Error（p2 to p1）：0.8922462687408756\n",
      "transform is the transformation matrix from p2 to p1\n"
     ]
    }
   ],
   "source": [
    "import numpy as np\n",
    "import open3d as o3d  \n",
    "from sklearn.neighbors import NearestNeighbors  # Calculate alignment error\n",
    "\n",
    "def load_point_cloud(ply_file):\n",
    "    pcd = o3d.io.read_point_cloud(ply_file)\n",
    "    points = np.asarray(pcd.points)\n",
    "    return points\n",
    "\n",
    "def apply_transform(points, transform):\n",
    "    # Convert point cloud to homogeneous coordinates\n",
    "    ones = np.ones((points.shape[0], 1))\n",
    "    homogeneous_points = np.hstack((points, ones))\n",
    "    # Application of transformation matrix\n",
    "    transformed_points = (transform @ homogeneous_points.T).T\n",
    "    # Return non-homogeneous coordinates\n",
    "    return transformed_points[:, :3]\n",
    "\n",
    "def compute_alignment_error(source_points, target_points):\n",
    "    nbrs = NearestNeighbors(n_neighbors=1).fit(target_points)\n",
    "    distances, _ = nbrs.kneighbors(source_points)\n",
    "    return np.mean(distances)\n",
    "\n",
    "# Point cloud file path(kitti)\n",
    "p1_file = \"/project/bli4/maps/wacv/GeoTransformer/data/Rellis/kitti_001786.ply\"\n",
    "p2_file = \"/project/bli4/maps/wacv/GeoTransformer/data/Rellis/kitti_001777.ply\"\n",
    "\n",
    "# # Point cloud file path(rellis)\n",
    "# p1_file = \"/project/bli4/autoai/joyang/GeoTransformer/data/Rellis/sequences/00004/os1_cloud_node_color_ply/000040.ply\"\n",
    "# p2_file = \"/project/bli4/autoai/joyang/GeoTransformer/data/Rellis/sequences/00004/os1_cloud_node_color_ply/000240.ply\"\n",
    "\n",
    "# Load point cloud data\n",
    "p1_points = load_point_cloud(p1_file)\n",
    "p2_points = load_point_cloud(p2_file)\n",
    "\n",
    "# Transformation matrix from kitti gt\n",
    "transform = np.array([[ 9.99981321e-01,  3.78943044e-03, -4.80179457e-03,\n",
    "        -9.68984093e+00],\n",
    "       [-3.80175465e-03,  9.99989547e-01, -2.56015328e-03,\n",
    "        -5.39332090e-02],\n",
    "       [ 4.79204138e-03,  2.57836601e-03,  9.99985241e-01,\n",
    "        -2.01965901e-01],\n",
    "       [ 0.00000000e+00,  0.00000000e+00,  0.00000000e+00,\n",
    "         1.00000000e+00]])\n",
    "\n",
    "# # Transformation matrix from rellis gt\n",
    "# transform = np.array([[ 0.99812302, -0.04881774, -0.03697775,  7.86450395],\n",
    "#        [ 0.04808394,  0.99863291, -0.02049177,  1.08264397],\n",
    "#        [ 0.03792745,  0.0186753 ,  0.99910529,  0.12559312],\n",
    "#        [ 0.        ,  0.        ,  0.        ,  1.        ]])\n",
    "\n",
    "# Scenario 1: Assume that transform is the transformation from p1 to p2.\n",
    "p1_transformed = apply_transform(p1_points, transform)\n",
    "\n",
    "# Scenario 2: Assume that transform is the transformation from p2 to p1.\n",
    "# Calculate the inverse matrix of transform.\n",
    "transform_inv = np.linalg.inv(transform)\n",
    "p2_transformed = apply_transform(p2_points, transform_inv)\n",
    "\n",
    "# Calculate alignment error\n",
    "error_p1_to_p2 = compute_alignment_error(p1_transformed, p2_points)\n",
    "error_p2_to_p1 = compute_alignment_error(p2_transformed, p1_points)\n",
    "\n",
    "print(f\"Error（p1 to p2）：{error_p1_to_p2}\")\n",
    "print(f\"Error（p2 to p1）：{error_p2_to_p1}\")\n",
    "\n",
    "if error_p1_to_p2 < error_p2_to_p1:\n",
    "    print(\"transform is the transformation matrix from p1 to p2\")\n",
    "else:\n",
    "    print(\"transform is the transformation matrix from p2 to p1\")\n"
   ]
  },
  {
   "cell_type": "code",
   "execution_count": null,
   "id": "1ecba15b-5d05-408f-bca6-185738501cb1",
   "metadata": {},
   "outputs": [],
   "source": []
  },
  {
   "cell_type": "code",
   "execution_count": null,
   "id": "3c9744e7-e6c8-4537-9a68-27c1eb794c27",
   "metadata": {},
   "outputs": [],
   "source": []
  },
  {
   "cell_type": "code",
   "execution_count": null,
   "id": "7374c3e8-2e8e-4330-92a0-83415fc9ad48",
   "metadata": {},
   "outputs": [],
   "source": []
  }
 ],
 "metadata": {
  "kernelspec": {
   "display_name": "geotransformer",
   "language": "python",
   "name": "geotransformer"
  },
  "language_info": {
   "codemirror_mode": {
    "name": "ipython",
    "version": 3
   },
   "file_extension": ".py",
   "mimetype": "text/x-python",
   "name": "python",
   "nbconvert_exporter": "python",
   "pygments_lexer": "ipython3",
   "version": "3.8.19"
  }
 },
 "nbformat": 4,
 "nbformat_minor": 5
}
