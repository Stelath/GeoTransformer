{
 "cells": [
  {
   "cell_type": "code",
   "execution_count": 16,
   "id": "2e31efe2-e025-43a6-94d9-fcf625686421",
   "metadata": {
    "tags": []
   },
   "outputs": [
    {
     "name": "stdout",
     "output_type": "stream",
     "text": [
      "点云已保存为 /project/bli4/autoai/joyang/GeoTransformer/data/CaSSed/real_world_data/00/001786.ply\n",
      "点云已保存为 /project/bli4/autoai/joyang/GeoTransformer/data/CaSSed/real_world_data/00/001777.ply\n"
     ]
    }
   ],
   "source": [
    "import numpy as np\n",
    "import open3d as o3d\n",
    "\n",
    "# Step 1: Read the .bin file\n",
    "def read_bin_file(bin_file_path):\n",
    "    point_cloud = np.fromfile(bin_file_path, dtype=np.float32).reshape(-1, 4)\n",
    "    return point_cloud[:, :3]  # Keep only X, Y, Z\n",
    "\n",
    "\n",
    "# Step 2: Convert point cloud data to Open3D format\n",
    "def convert_bin_to_ply(bin_file_path, output_ply_path):\n",
    "    # Read point cloud data\n",
    "    points = read_bin_file(bin_file_path)\n",
    "    \n",
    "    # Create an Open3D point cloud object\n",
    "    point_cloud = o3d.geometry.PointCloud()\n",
    "    point_cloud.points = o3d.utility.Vector3dVector(points)\n",
    "    \n",
    "    # Save the point cloud as a .ply file\n",
    "    o3d.io.write_point_cloud(output_ply_path, point_cloud)\n",
    "    print(f\"Point cloud saved as {output_ply_path}\")\n",
    "\n",
    "# Step 3: Use the conversion function to convert .bin to .ply\n",
    "bin_file_1 = \"/project/bli4/autoai/joyang/GeoTransformer/data/Kitti/sequences/08/velodyne/001786.bin\"\n",
    "bin_file_2 = \"/project/bli4/autoai/joyang/GeoTransformer/data/Kitti/sequences/08/velodyne/001777.bin\"\n",
    "\n",
    "# Convert to .ply files\n",
    "convert_bin_to_ply(bin_file_1, \"/project/bli4/autoai/joyang/GeoTransformer/data/CaSSed/real_world_data/00/001786.ply\")\n",
    "convert_bin_to_ply(bin_file_2, \"/project/bli4/autoai/joyang/GeoTransformer/data/CaSSed/real_world_data/00/001777.ply\")\n"
   ]
  },
  {
   "cell_type": "code",
   "execution_count": 10,
   "id": "e6403751-3c96-4641-a3c3-4fa64a7fab54",
   "metadata": {
    "tags": []
   },
   "outputs": [
    {
     "name": "stdout",
     "output_type": "stream",
     "text": [
      "点云变换完成并保存为 'transformed_000580.ply'\n"
     ]
    }
   ],
   "source": [
    "import open3d as o3d\n",
    "import numpy as np\n",
    "\n",
    "# Step 1: Read the point cloud\n",
    "point_cloud = o3d.io.read_point_cloud(\"/project/bli4/autoai/joyang/GeoTransformer/data/Rellis/sequences/00004/os1_cloud_node_color_ply/000580.ply\")\n",
    "\n",
    "# Step 2: Get the points of the point cloud and convert them to homogeneous coordinates\n",
    "points = np.asarray(point_cloud.points)  # shape (N, 3)\n",
    "num_points = points.shape[0]\n",
    "ones = np.ones((num_points, 1))\n",
    "homogeneous_points = np.hstack((points, ones))  # shape (N, 4)\n",
    "\n",
    "# Step 3: Define a 4x4 transformation matrix\n",
    "transform_matrix = np.array([[ 0.99554746, -0.08839565, -0.03272686, 25.09805994],\n",
    "       [ 0.09016305,  0.99428568,  0.05717093,  1.60871635],\n",
    "       [ 0.02748616, -0.05986711,  0.99782778, -0.16114052],\n",
    "       [ 0.        ,  0.        ,  0.        ,  1.        ]])\n",
    "\n",
    "# Step 4: Apply the transformation matrix to each point\n",
    "transformed_points = (transform_matrix @ homogeneous_points.T).T  # shape (N, 4)\n",
    "\n",
    "# Extract the transformed x, y, z coordinates\n",
    "transformed_points = transformed_points[:, :3]  # shape (N, 3)\n",
    "\n",
    "# Step 5: Update the points of the point cloud and save it\n",
    "point_cloud.points = o3d.utility.Vector3dVector(transformed_points)\n",
    "o3d.io.write_point_cloud(\"/project/bli4/autoai/joyang/GeoTransformer/data/CaSSed/real_world_data/00/transformed_000580.ply\", point_cloud)\n",
    "\n",
    "print(\"Point cloud transformation completed and saved as\n"
   ]
  },
  {
   "cell_type": "code",
   "execution_count": null,
   "id": "0e63b06f-8b2f-48c5-a78b-3f16aa4735b5",
   "metadata": {},
   "outputs": [],
   "source": []
  },
  {
   "cell_type": "code",
   "execution_count": null,
   "id": "3a25cfd9-dde4-478e-9987-89ec1771cc2b",
   "metadata": {},
   "outputs": [],
   "source": []
  },
  {
   "cell_type": "code",
   "execution_count": null,
   "id": "1ecba15b-5d05-408f-bca6-185738501cb1",
   "metadata": {},
   "outputs": [],
   "source": []
  },
  {
   "cell_type": "code",
   "execution_count": null,
   "id": "8971e2bd-b6f9-47d2-815b-ae39502e3e58",
   "metadata": {},
   "outputs": [],
   "source": []
  },
  {
   "cell_type": "code",
   "execution_count": 23,
   "id": "53530480-4806-4d8a-afec-3328db22e8ad",
   "metadata": {
    "tags": []
   },
   "outputs": [
    {
     "name": "stdout",
     "output_type": "stream",
     "text": [
      "Error（p1 to p2）：1.1488429508535898\n",
      "Error（p2 to p1）：1.1246433767610096\n",
      "transform is the transformation matrix from p2 to p1\n"
     ]
    }
   ],
   "source": [
    "import numpy as np\n",
    "import open3d as o3d  \n",
    "from sklearn.neighbors import NearestNeighbors  # Calculate alignment error\n",
    "\n",
    "def load_point_cloud(ply_file):\n",
    "    pcd = o3d.io.read_point_cloud(ply_file)\n",
    "    points = np.asarray(pcd.points)\n",
    "    return points\n",
    "\n",
    "def apply_transform(points, transform):\n",
    "    # Convert point cloud to homogeneous coordinates\n",
    "    ones = np.ones((points.shape[0], 1))\n",
    "    homogeneous_points = np.hstack((points, ones))\n",
    "    # Application of transformation matrix\n",
    "    transformed_points = (transform @ homogeneous_points.T).T\n",
    "    # Return non-homogeneous coordinates\n",
    "    return transformed_points[:, :3]\n",
    "\n",
    "def compute_alignment_error(source_points, target_points):\n",
    "    nbrs = NearestNeighbors(n_neighbors=1).fit(target_points)\n",
    "    distances, _ = nbrs.kneighbors(source_points)\n",
    "    return np.mean(distances)\n",
    "\n",
    "# # Point cloud file path(kitti)\n",
    "# p1_file = \"/project/bli4/autoai/joyang/GeoTransformer/data/CaSSed/real_world_data/00/001786.ply\"\n",
    "# p2_file = \"/project/bli4/autoai/joyang/GeoTransformer/data/CaSSed/real_world_data/00/001777.ply\"\n",
    "\n",
    "# Point cloud file path(rellis)\n",
    "p1_file = \"/project/bli4/autoai/joyang/GeoTransformer/data/Rellis/sequences/00004/os1_cloud_node_color_ply/000040.ply\"\n",
    "p2_file = \"/project/bli4/autoai/joyang/GeoTransformer/data/Rellis/sequences/00004/os1_cloud_node_color_ply/000240.ply\"\n",
    "\n",
    "# Load point cloud data\n",
    "p1_points = load_point_cloud(p1_file)\n",
    "p2_points = load_point_cloud(p2_file)\n",
    "\n",
    "# # Transformation matrix from kitti gt\n",
    "# transform = np.array([[ 9.99896278e-01, -1.05773721e-02, -9.77299088e-03,\n",
    "#         -9.18163957e+00],\n",
    "#        [ 1.05132169e-02,  9.99922980e-01, -6.59281305e-03,\n",
    "#         -1.90400289e-01],\n",
    "#        [ 9.84197057e-03,  6.48938512e-03,  9.99930548e-01,\n",
    "#         -2.35871543e-01],\n",
    "#        [ 0.00000000e+00,  0.00000000e+00,  0.00000000e+00,\n",
    "#          1.00000000e+00]])\n",
    "\n",
    "# Transformation matrix from rellis gt\n",
    "transform = np.array([[ 0.99812302, -0.04881774, -0.03697775,  7.86450395],\n",
    "       [ 0.04808394,  0.99863291, -0.02049177,  1.08264397],\n",
    "       [ 0.03792745,  0.0186753 ,  0.99910529,  0.12559312],\n",
    "       [ 0.        ,  0.        ,  0.        ,  1.        ]])\n",
    "\n",
    "# Scenario 1: Assume that transform is the transformation from p1 to p2.\n",
    "p1_transformed = apply_transform(p1_points, transform)\n",
    "\n",
    "# Scenario 2: Assume that transform is the transformation from p2 to p1.\n",
    "# Calculate the inverse matrix of transform.\n",
    "transform_inv = np.linalg.inv(transform)\n",
    "p2_transformed = apply_transform(p2_points, transform_inv)\n",
    "\n",
    "# Calculate alignment error\n",
    "error_p1_to_p2 = compute_alignment_error(p1_transformed, p2_points)\n",
    "error_p2_to_p1 = compute_alignment_error(p2_transformed, p1_points)\n",
    "\n",
    "print(f\"Error（p1 to p2）：{error_p1_to_p2}\")\n",
    "print(f\"Error（p2 to p1）：{error_p2_to_p1}\")\n",
    "\n",
    "if error_p1_to_p2 < error_p2_to_p1:\n",
    "    print(\"transform is the transformation matrix from p1 to p2\")\n",
    "else:\n",
    "    print(\"transform is the transformation matrix from p2 to p1\")\n"
   ]
  },
  {
   "cell_type": "code",
   "execution_count": null,
   "id": "3c9744e7-e6c8-4537-9a68-27c1eb794c27",
   "metadata": {},
   "outputs": [],
   "source": []
  }
 ],
 "metadata": {
  "kernelspec": {
   "display_name": "geotransformer",
   "language": "python",
   "name": "geotransformer"
  },
  "language_info": {
   "codemirror_mode": {
    "name": "ipython",
    "version": 3
   },
   "file_extension": ".py",
   "mimetype": "text/x-python",
   "name": "python",
   "nbconvert_exporter": "python",
   "pygments_lexer": "ipython3",
   "version": "3.8.19"
  }
 },
 "nbformat": 4,
 "nbformat_minor": 5
}
