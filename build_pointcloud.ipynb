{
 "cells": [
  {
   "cell_type": "code",
   "execution_count": 2,
   "metadata": {},
   "outputs": [],
   "source": [
    "import os\n",
    "import glob\n",
    "import numpy as np\n",
    "import pandas as pd\n",
    "\n",
    "import pyvista as pv\n",
    "\n",
    "from geotransformer.utils.pointcloud import apply_transform"
   ]
  },
  {
   "cell_type": "code",
   "execution_count": 3,
   "metadata": {},
   "outputs": [],
   "source": [
    "def load_from_bin(bin_path):\n",
    "    obj = np.fromfile(bin_path, dtype=np.float32).reshape(-1, 4)\n",
    "    return obj[:,:3]\n",
    "\n",
    "def load_from_npy(npy_path):\n",
    "    obj = np.load(npy_path)\n",
    "    return obj"
   ]
  },
  {
   "cell_type": "code",
   "execution_count": 4,
   "metadata": {},
   "outputs": [],
   "source": [
    "# Load Transforms\n",
    "transforms = np.load('transforms.npy')\n",
    "gt_transforms = pd.read_csv('data/Rellis/sequences/00/poses.txt', header=None, sep=' ')\n",
    "\n",
    "# Get all the bin files (Point Clouds)\n",
    "bin_files = sorted(glob.glob(os.path.join('data/Rellis/sequences/04/os1_cloud_node_kitti_bin/', '*.bin')))\n",
    "npy_files = sorted(glob.glob(os.path.join('data/Rellis/downsampled/04/', '*.npy')))"
   ]
  },
  {
   "cell_type": "code",
   "execution_count": 5,
   "metadata": {},
   "outputs": [],
   "source": [
    "start = 25\n",
    "end = 100\n",
    "skip = 50\n",
    "\n",
    "\n",
    "point_cloud = load_from_bin(bin_files[start])\n",
    "for i, bin_file in enumerate(bin_files[start+skip:end:skip]):\n",
    "    idx = i * skip + start\n",
    "    # Load Point Cloud\n",
    "    src_point_cloud = load_from_bin(bin_file)\n",
    "    \n",
    "    # Get New Transform\n",
    "    gt_transform = np.concatenate([gt_transforms.iloc[idx].to_numpy().reshape(3,4), np.array([[0,0,0,1]])], axis=0)\n",
    "    \n",
    "    # transform = np.matmul(transform, gt_transform)\n",
    "    transformed_point_cloud = apply_transform(src_point_cloud, gt_transform)\n",
    "    \n",
    "    os.makedirs('./reg_pointclouds/gt', exist_ok=True)\n",
    "    np.save('./reg_pointclouds/gt/{}.npy'.format(i), transformed_point_cloud)\n",
    "    \n",
    "    # Apply Transform\n",
    "    point_cloud = np.append(point_cloud, transformed_point_cloud, axis=0)#apply_transform(src_point_cloud, transform))\n",
    "\n",
    "\n",
    "point_cloud = load_from_npy(npy_files[start])\n",
    "transform = np.eye(4)\n",
    "for i, npy_file in enumerate(npy_files[start+skip:end:skip]):\n",
    "    idx = i * skip + start\n",
    "    \n",
    "    # Load Point Cloud\n",
    "    src_point_cloud = load_from_npy(npy_file)\n",
    "    \n",
    "    # Get New Transform\n",
    "    pred_transform = transforms[i]\n",
    "    \n",
    "    transform = np.matmul(pred_transform, transform)\n",
    "    transformed_point_cloud = apply_transform(src_point_cloud, transform)\n",
    "    \n",
    "    os.makedirs('./reg_pointclouds/pred', exist_ok=True)\n",
    "    np.save('./reg_pointclouds/pred/{}.npy'.format(i), transformed_point_cloud)\n",
    "    \n",
    "    # Apply Transform\n",
    "    point_cloud = np.append(point_cloud, transformed_point_cloud, axis=0)#apply_transform(src_point_cloud, transform))\n",
    "    "
   ]
  },
  {
   "cell_type": "code",
   "execution_count": 6,
   "metadata": {},
   "outputs": [],
   "source": [
    "pv.start_xvfb()\n",
    "point_cloud_pv = pv.PolyData(point_cloud)\n",
    "point_cloud_pv.plot(eye_dome_lighting=True, render_points_as_spheres=True, jupyter_backend='static')"
   ]
  },
  {
   "cell_type": "code",
   "execution_count": null,
   "metadata": {},
   "outputs": [],
   "source": []
  }
 ],
 "metadata": {
  "kernelspec": {
   "display_name": "Python 3",
   "language": "python",
   "name": "python3"
  },
  "language_info": {
   "codemirror_mode": {
    "name": "ipython",
    "version": 3
   },
   "file_extension": ".py",
   "mimetype": "text/x-python",
   "name": "python",
   "nbconvert_exporter": "python",
   "pygments_lexer": "ipython3",
   "version": "3.8.0"
  }
 },
 "nbformat": 4,
 "nbformat_minor": 2
}
