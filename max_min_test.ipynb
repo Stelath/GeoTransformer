{
 "cells": [
  {
   "cell_type": "code",
   "execution_count": 1,
   "metadata": {},
   "outputs": [
    {
     "name": "stdout",
     "output_type": "stream",
     "text": [
      "Jupyter environment detected. Enabling Open3D WebVisualizer.\n",
      "[Open3D INFO] WebRTC GUI backend enabled.\n",
      "[Open3D INFO] WebRTCWindowSystem: HTTP handshake server disabled.\n"
     ]
    }
   ],
   "source": [
    "import numpy as np\n",
    "import open3d as o3d"
   ]
  },
  {
   "cell_type": "code",
   "execution_count": 6,
   "metadata": {},
   "outputs": [],
   "source": [
    "bin_path = 'data/Kitti/sequences/00/velodyne/000000.bin'\n",
    "kitti = np.fromfile(bin_path, dtype=np.float32).reshape(-1, 4)\n",
    "kitti = kitti[:, :3]"
   ]
  },
  {
   "cell_type": "code",
   "execution_count": 7,
   "metadata": {},
   "outputs": [],
   "source": [
    "bin_path = 'data/Rellis/sequences/00/os1_cloud_node_kitti_bin/000000.bin'\n",
    "rellis = np.fromfile(bin_path, dtype=np.float32).reshape(-1, 4)\n",
    "rellis = rellis[:, :3] # Ignore Reflectivity"
   ]
  },
  {
   "cell_type": "code",
   "execution_count": 8,
   "metadata": {},
   "outputs": [
    {
     "data": {
      "text/plain": [
       "(-78.087395, 77.96733, -58.567356, 91.22015)"
      ]
     },
     "execution_count": 8,
     "metadata": {},
     "output_type": "execute_result"
    }
   ],
   "source": [
    "kitti.min(), kitti.max(), rellis.min(), rellis.max()"
   ]
  },
  {
   "cell_type": "code",
   "execution_count": 2,
   "metadata": {},
   "outputs": [],
   "source": [
    "from geotransformer.utils.common import load_pickle"
   ]
  },
  {
   "cell_type": "code",
   "execution_count": 9,
   "metadata": {},
   "outputs": [],
   "source": [
    "train_pkl = load_pickle('data/Kitti/metadata/train.pkl')\n",
    "val_pkl = load_pickle('data/Kitti/metadata/val.pkl')"
   ]
  },
  {
   "cell_type": "code",
   "execution_count": 11,
   "metadata": {},
   "outputs": [
    {
     "data": {
      "text/plain": [
       "{'seq_id': 0,\n",
       " 'frame0': 157,\n",
       " 'frame1': 145,\n",
       " 'transform': array([[ 9.99658372e-01,  2.61356007e-02, -1.85592564e-04,\n",
       "         -9.66339311e+00],\n",
       "        [-2.61343835e-02,  9.99475944e-01, -1.90987680e-02,\n",
       "         -4.68497947e-02],\n",
       "        [-3.13654434e-04,  1.90970927e-02,  9.99817539e-01,\n",
       "         -4.58069808e-02],\n",
       "        [ 0.00000000e+00,  0.00000000e+00,  0.00000000e+00,\n",
       "          1.00000000e+00]]),\n",
       " 'pcd0': 'downsampled/00/000157.npy',\n",
       " 'pcd1': 'downsampled/00/000145.npy'}"
      ]
     },
     "execution_count": 11,
     "metadata": {},
     "output_type": "execute_result"
    }
   ],
   "source": [
    "train_pkl[10]"
   ]
  },
  {
   "cell_type": "code",
   "execution_count": null,
   "metadata": {},
   "outputs": [],
   "source": []
  }
 ],
 "metadata": {
  "kernelspec": {
   "display_name": "Python 3",
   "language": "python",
   "name": "python3"
  },
  "language_info": {
   "codemirror_mode": {
    "name": "ipython",
    "version": 3
   },
   "file_extension": ".py",
   "mimetype": "text/x-python",
   "name": "python",
   "nbconvert_exporter": "python",
   "pygments_lexer": "ipython3",
   "version": "3.9.18"
  }
 },
 "nbformat": 4,
 "nbformat_minor": 2
}
