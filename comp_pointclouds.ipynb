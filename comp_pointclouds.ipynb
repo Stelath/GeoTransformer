{
 "cells": [
  {
   "cell_type": "code",
   "execution_count": 1,
   "metadata": {},
   "outputs": [],
   "source": [
    "import numpy as np"
   ]
  },
  {
   "cell_type": "code",
   "execution_count": 3,
   "metadata": {},
   "outputs": [],
   "source": [
    "def load_from_bin(bin_path):\n",
    "    obj = np.fromfile(bin_path, dtype=np.float32).reshape(-1, 4)\n",
    "    return obj[:,:3]\n"
   ]
  },
  {
   "cell_type": "code",
   "execution_count": 10,
   "metadata": {},
   "outputs": [],
   "source": [
    "downsampled = np.load('data/Rellis/downsampled/00/000000.npy')\n",
    "normal = load_from_bin('data/Rellis/sequences/00/vel_cloud_node_kitti_bin/000000.bin')\n",
    "os_normal = load_from_bin('data/Rellis/sequences/00/os1_cloud_node_kitti_bin/000000.bin')"
   ]
  },
  {
   "cell_type": "code",
   "execution_count": 11,
   "metadata": {},
   "outputs": [
    {
     "data": {
      "text/plain": [
       "((15190, 3), (36383, 3), (131072, 3))"
      ]
     },
     "execution_count": 11,
     "metadata": {},
     "output_type": "execute_result"
    }
   ],
   "source": [
    "downsampled.shape, normal.shape, os_normal.shape"
   ]
  },
  {
   "cell_type": "code",
   "execution_count": 8,
   "metadata": {},
   "outputs": [
    {
     "name": "stdout",
     "output_type": "stream",
     "text": [
      "Downsampled - Min: -110.715866 Max: 127.01701 Mean: 0.78512424 Std: 19.114622\n",
      "Normal - Min: -110.715866 Max: 127.01701 Mean: 0.71663165 Std: 11.665466\n",
      "OS Normal - Min: -58.567356 Max: 91.22015 Mean: -0.30144644 Std: 5.344586\n"
     ]
    }
   ],
   "source": [
    "downsampled_min = np.min(downsampled)\n",
    "downsampled_max = np.max(downsampled)\n",
    "downsampled_mean = np.mean(downsampled)\n",
    "downsampled_std = np.std(downsampled)\n",
    "\n",
    "normal_min = np.min(normal)\n",
    "normal_max = np.max(normal)\n",
    "normal_mean = np.mean(normal)\n",
    "normal_std = np.std(normal)\n",
    "\n",
    "os_normal_min = np.min(os_normal)\n",
    "os_normal_max = np.max(os_normal)\n",
    "os_normal_mean = np.mean(os_normal)\n",
    "os_normal_std = np.std(os_normal)\n",
    "\n",
    "print(\"Downsampled - Min:\", downsampled_min, \"Max:\", downsampled_max, \"Mean:\", downsampled_mean, \"Std:\", downsampled_std)\n",
    "print(\"Normal - Min:\", normal_min, \"Max:\", normal_max, \"Mean:\", normal_mean, \"Std:\", normal_std)\n",
    "print(\"OS Normal - Min:\", os_normal_min, \"Max:\", os_normal_max, \"Mean:\", os_normal_mean, \"Std:\", os_normal_std)\n"
   ]
  },
  {
   "cell_type": "code",
   "execution_count": 2,
   "metadata": {},
   "outputs": [],
   "source": [
    "gt_pcd = np.load('gt_point_cloud.npy')\n",
    "metadata_pcd = np.load('metadata_point_cloud.npy')"
   ]
  },
  {
   "cell_type": "code",
   "execution_count": 7,
   "metadata": {},
   "outputs": [
    {
     "data": {
      "text/plain": [
       "5373952"
      ]
     },
     "execution_count": 7,
     "metadata": {},
     "output_type": "execute_result"
    }
   ],
   "source": [
    "len(metadata_pcd)"
   ]
  },
  {
   "cell_type": "code",
   "execution_count": 8,
   "metadata": {},
   "outputs": [
    {
     "data": {
      "text/plain": [
       "(array([[11.14620436, -7.76164727, -0.25761101],\n",
       "        [10.5489749 , -6.83329944, -0.34921742],\n",
       "        [11.91827891, -7.07185163, -0.53851525],\n",
       "        [10.93457416, -6.01707396, -0.59092483],\n",
       "        [11.06915491, -7.72204158, -0.74472654],\n",
       "        [10.70810595, -6.93816622, -0.82003217],\n",
       "        [10.54891979, -6.32895127, -0.90634308],\n",
       "        [10.17557193, -5.64348488, -0.96413053],\n",
       "        [ 9.2112614 , -6.526846  , -1.00451067],\n",
       "        [ 9.46466879, -6.20516476, -1.12274453]]),\n",
       " array([[ -4.89586121, -12.82865266,   0.03786766],\n",
       "        [ -4.1661644 , -12.00211308,  -0.06834503],\n",
       "        [ -4.01125067, -13.39093711,  -0.1904435 ],\n",
       "        [ -3.26806087, -12.15666086,  -0.27536907],\n",
       "        [ -4.86388924, -12.76565993,  -0.45182248],\n",
       "        [ -4.20825627, -12.20512326,  -0.53202748],\n",
       "        [ -3.66431085, -11.88725767,  -0.61580048],\n",
       "        [ -3.10715319, -11.34142484,  -0.68087627],\n",
       "        [ -4.22076388, -10.66280967,  -0.78673879],\n",
       "        [ -3.83808226, -10.82210515,  -0.88600238]]))"
      ]
     },
     "execution_count": 8,
     "metadata": {},
     "output_type": "execute_result"
    }
   ],
   "source": [
    "gt_pcd[300000:300010], metadata_pcd[300000:300010]"
   ]
  }
 ],
 "metadata": {
  "kernelspec": {
   "display_name": "Python 3",
   "language": "python",
   "name": "python3"
  },
  "language_info": {
   "codemirror_mode": {
    "name": "ipython",
    "version": 3
   },
   "file_extension": ".py",
   "mimetype": "text/x-python",
   "name": "python",
   "nbconvert_exporter": "python",
   "pygments_lexer": "ipython3",
   "version": "3.8.18"
  }
 },
 "nbformat": 4,
 "nbformat_minor": 2
}
