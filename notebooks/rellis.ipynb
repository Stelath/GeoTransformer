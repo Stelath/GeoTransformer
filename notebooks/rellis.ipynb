{
 "cells": [
  {
   "cell_type": "markdown",
   "metadata": {},
   "source": [
    "## Imports"
   ]
  },
  {
   "cell_type": "code",
   "execution_count": 1,
   "metadata": {
    "tags": []
   },
   "outputs": [
    {
     "name": "stdout",
     "output_type": "stream",
     "text": [
      "Jupyter environment detected. Enabling Open3D WebVisualizer.\n",
      "[Open3D INFO] WebRTC GUI backend enabled.\n",
      "[Open3D INFO] WebRTCWindowSystem: HTTP handshake server disabled.\n"
     ]
    }
   ],
   "source": [
    "import numpy as np\n",
    "import pyvista as pv\n",
    "from pyvista import examples\n",
    "\n",
    "# pv.global_theme.trame.server_proxy_enabled = True\n",
    "# pv.global_theme.trame.server_proxy_prefix = '/proxy/'\n",
    "\n",
    "\n",
    "import open3d as o3d\n",
    "# o3d.visualization.webrtc_server.enable_webrtc()\n",
    "# from open3d.web_visualizer import draw\n",
    "# import open3d.ml.torch as ml3d"
   ]
  },
  {
   "cell_type": "markdown",
   "metadata": {},
   "source": [
    "## Visualize"
   ]
  },
  {
   "cell_type": "code",
   "execution_count": 1,
   "metadata": {},
   "outputs": [],
   "source": [
    "import numpy as np"
   ]
  },
  {
   "cell_type": "code",
   "execution_count": 6,
   "metadata": {
    "tags": []
   },
   "outputs": [],
   "source": [
    "bin_path = '../data/Rellis/sequences/00/vel_cloud_node_kitti_bin/001000.bin'\n",
    "rellis = np.fromfile(bin_path, dtype=np.float32).reshape(-1, 4)\n",
    "rellis = rellis[:, :3] # Ignore Reflectivity"
   ]
  },
  {
   "cell_type": "code",
   "execution_count": 8,
   "metadata": {},
   "outputs": [],
   "source": [
    "np.save(\"rellis_raw_pointcloud.npy\", rellis, allow_pickle=True)"
   ]
  },
  {
   "cell_type": "code",
   "execution_count": 2,
   "metadata": {
    "tags": []
   },
   "outputs": [
    {
     "name": "stderr",
     "output_type": "stream",
     "text": [
      "/home/korte/micromamba/envs/geotransformer/lib/python3.8/site-packages/pyvista/jupyter/notebook.py:34: UserWarning: Failed to use notebook backend: \n",
      "\n",
      "cannot import name 'vtk' from 'trame.widgets' (/home/korte/micromamba/envs/geotransformer/lib/python3.8/site-packages/trame/widgets/__init__.py)\n",
      "\n",
      "Falling back to a static output.\n",
      "  warnings.warn(\n",
      "ERROR - 2024-01-23 00:51:50,824 - observers - bad X server connection. DISPLAY=:99. Aborting.\n"
     ]
    },
    {
     "ename": "",
     "evalue": "",
     "output_type": "error",
     "traceback": [
      "\u001b[1;31mThe Kernel crashed while executing code in the the current cell or a previous cell. Please review the code in the cell(s) to identify a possible cause of the failure. Click <a href='https://aka.ms/vscodeJupyterKernelCrash'>here</a> for more info. View Jupyter <a href='command:jupyter.viewOutput'>log</a> for further details."
     ]
    }
   ],
   "source": [
    "pv.start_xvfb()\n",
    "point_cloud = pv.PolyData([[3.3, 2.2, 3.3]])\n",
    "point_cloud.plot(eye_dome_lighting=True, render_points_as_spheres=True, jupyter_backend='trame')"
   ]
  },
  {
   "cell_type": "markdown",
   "metadata": {},
   "source": [
    "## GeoTransformer SLAM"
   ]
  },
  {
   "cell_type": "code",
   "execution_count": null,
   "metadata": {},
   "outputs": [],
   "source": []
  }
 ],
 "metadata": {
  "kernelspec": {
   "display_name": "Python 3",
   "language": "python",
   "name": "python3"
  },
  "language_info": {
   "codemirror_mode": {
    "name": "ipython",
    "version": 3
   },
   "file_extension": ".py",
   "mimetype": "text/x-python",
   "name": "python",
   "nbconvert_exporter": "python",
   "pygments_lexer": "ipython3",
   "version": "3.8.18"
  }
 },
 "nbformat": 4,
 "nbformat_minor": 4
}
