{
 "cells": [
  {
   "cell_type": "code",
   "execution_count": 1,
   "metadata": {},
   "outputs": [
    {
     "name": "stdout",
     "output_type": "stream",
     "text": [
      "Jupyter environment detected. Enabling Open3D WebVisualizer.\n",
      "[Open3D INFO] WebRTC GUI backend enabled.\n",
      "[Open3D INFO] WebRTCWindowSystem: HTTP handshake server disabled.\n"
     ]
    }
   ],
   "source": [
    "import numpy as np\n",
    "import pandas as pd\n",
    "import open3d as o3d"
   ]
  },
  {
   "cell_type": "code",
   "execution_count": 18,
   "metadata": {},
   "outputs": [],
   "source": [
    "bin_path = 'data/Kitti/sequences/00/velodyne/000000.bin'\n",
    "kitti = np.fromfile(bin_path, dtype=np.float32).reshape(-1, 4)\n",
    "kitti = kitti[:, :3]"
   ]
  },
  {
   "cell_type": "code",
   "execution_count": 36,
   "metadata": {},
   "outputs": [],
   "source": [
    "# bin_path = 'data/Rellis/sequences/00/os1_cloud_node_kitti_bin/000000.bin'\n",
    "bin_path = 'data/Rellis/sequences/00/vel_cloud_node_kitti_bin/000000.bin'\n",
    "rellis = np.fromfile(bin_path, dtype=np.float32).reshape(-1, 4)\n",
    "rellis = rellis[:, :3] # Ignore Reflectivity"
   ]
  },
  {
   "cell_type": "code",
   "execution_count": 32,
   "metadata": {},
   "outputs": [
    {
     "data": {
      "text/plain": [
       "(-78.087395, 77.96733, -58.56, 91.25)"
      ]
     },
     "execution_count": 32,
     "metadata": {},
     "output_type": "execute_result"
    }
   ],
   "source": [
    "kitti.min(), kitti.max(), rellis.min(), rellis.max()"
   ]
  },
  {
   "cell_type": "code",
   "execution_count": 39,
   "metadata": {},
   "outputs": [
    {
     "name": "stdout",
     "output_type": "stream",
     "text": [
      "[]\n"
     ]
    }
   ],
   "source": [
    "unique_points, counts = np.unique(rellis, axis=0, return_counts=True)\n",
    "repeat_points = unique_points[counts > 1]\n",
    "print(repeat_points)"
   ]
  },
  {
   "cell_type": "code",
   "execution_count": 2,
   "metadata": {},
   "outputs": [],
   "source": [
    "from geotransformer.utils.common import load_pickle"
   ]
  },
  {
   "cell_type": "code",
   "execution_count": 4,
   "metadata": {},
   "outputs": [],
   "source": [
    "train_pkl = load_pickle('data/Rellis/metadata/train.pkl')\n",
    "val_pkl = load_pickle('data/Rellis/metadata/val.pkl')\n",
    "test_pkl = load_pickle('data/Rellis/metadata/test.pkl')"
   ]
  },
  {
   "cell_type": "code",
   "execution_count": 5,
   "metadata": {},
   "outputs": [
    {
     "name": "stdout",
     "output_type": "stream",
     "text": [
      "889\n"
     ]
    }
   ],
   "source": [
    "print(len(train_pkl))"
   ]
  },
  {
   "cell_type": "code",
   "execution_count": 3,
   "metadata": {},
   "outputs": [],
   "source": [
    "test_pkl = load_pickle('data/Rellis/metadata/test.pkl')\n",
    "test_pkl_kitti = load_pickle('data/Kitti/metadata/test.pkl')"
   ]
  },
  {
   "cell_type": "code",
   "execution_count": 7,
   "metadata": {},
   "outputs": [],
   "source": [
    "val_pkl = load_pickle('data/Rellis/metadata/val.pkl')\n",
    "val_pkl_kitti = load_pickle('data/Kitti/metadata/val.pkl')"
   ]
  },
  {
   "cell_type": "code",
   "execution_count": null,
   "metadata": {},
   "outputs": [],
   "source": []
  },
  {
   "cell_type": "code",
   "execution_count": 5,
   "metadata": {},
   "outputs": [
    {
     "data": {
      "text/plain": [
       "(0.16467513796191116, 0.1204392914470209)"
      ]
     },
     "execution_count": 5,
     "metadata": {},
     "output_type": "execute_result"
    }
   ],
   "source": [
    "from scipy.spatial.transform import Rotation\n",
    "\n",
    "def calculate_average_distance(transforms):\n",
    "    distances = []\n",
    "    for i in range(len(transforms)-1):\n",
    "        t1 = transforms[i]['transform']\n",
    "        t2 = transforms[i+1]['transform']\n",
    "        r1 = Rotation.from_matrix(t1[:3, :3])\n",
    "        r2 = Rotation.from_matrix(t2[:3, :3])\n",
    "        distance = np.linalg.norm(r1.as_rotvec() - r2.as_rotvec())\n",
    "        distances.append(distance)\n",
    "    average_distance = sum(distances) / len(distances)\n",
    "    return average_distance\n",
    "\n",
    "average_distance_test_pkl = calculate_average_distance(test_pkl)\n",
    "average_distance_test_pkl_kitti = calculate_average_distance(test_pkl_kitti)\n",
    "\n",
    "average_distance_test_pkl, average_distance_test_pkl_kitti"
   ]
  },
  {
   "cell_type": "code",
   "execution_count": 14,
   "metadata": {},
   "outputs": [
    {
     "data": {
      "text/plain": [
       "array([[ 0.99877711,  0.01967604, -0.04535084, -6.65557728],\n",
       "       [-0.02182467,  0.99863786, -0.047389  , -0.06118902],\n",
       "       [ 0.04435672,  0.04832071,  0.99784677, -0.10037078],\n",
       "       [ 0.        ,  0.        ,  0.        ,  1.        ]])"
      ]
     },
     "execution_count": 14,
     "metadata": {},
     "output_type": "execute_result"
    }
   ],
   "source": [
    "val_pkl[10]['transform']"
   ]
  },
  {
   "cell_type": "code",
   "execution_count": 15,
   "metadata": {},
   "outputs": [
    {
     "data": {
      "text/plain": [
       "array([[ 9.99384314e-01,  3.49318770e-02, -3.28247803e-03,\n",
       "        -9.72660996e+00],\n",
       "       [-3.49449013e-02,  9.99381329e-01, -3.99638252e-03,\n",
       "         1.20828686e-01],\n",
       "       [ 3.14084615e-03,  4.10863526e-03,  9.99986636e-01,\n",
       "        -1.33577354e-01],\n",
       "       [ 0.00000000e+00,  0.00000000e+00,  0.00000000e+00,\n",
       "         1.00000000e+00]])"
      ]
     },
     "execution_count": 15,
     "metadata": {},
     "output_type": "execute_result"
    }
   ],
   "source": [
    "val_pkl_kitti[10]['transform']"
   ]
  },
  {
   "cell_type": "code",
   "execution_count": 16,
   "metadata": {},
   "outputs": [
    {
     "data": {
      "text/plain": [
       "[{'seq_id': 4,\n",
       "  'frame0': 25,\n",
       "  'frame1': 75,\n",
       "  'p1_transform': array([[ 0.275415  , -0.960795  ,  0.0319266 , -0.130382  ],\n",
       "         [ 0.961323  ,  0.275198  , -0.0111047 , -0.423012  ],\n",
       "         [ 0.00188321,  0.0337502 ,  0.999429  ,  0.167099  ],\n",
       "         [ 0.        ,  0.        ,  0.        ,  1.        ]]),\n",
       "  'p2_transform': array([[ 0.274723  , -0.960998  ,  0.0317688 , -0.14286   ],\n",
       "         [ 0.961522  ,  0.274515  , -0.010813  , -0.440052  ],\n",
       "         [ 0.00167028,  0.033517  ,  0.999437  ,  0.162578  ],\n",
       "         [ 0.        ,  0.        ,  0.        ,  1.        ]]),\n",
       "  'transform': array([[ 1.00000031e+00, -7.12932818e-04,  2.36972677e-04,\n",
       "          -1.98261112e-02],\n",
       "         [ 7.12448083e-04,  9.99999211e-01,  2.32158610e-04,\n",
       "           7.14684854e-03],\n",
       "         [-2.37111249e-04, -2.31963216e-04,  9.99999718e-01,\n",
       "          -4.72757028e-03],\n",
       "         [ 0.00000000e+00,  0.00000000e+00,  0.00000000e+00,\n",
       "           1.00000000e+00]]),\n",
       "  'pcd0': 'downsampled/04/000025.npy',\n",
       "  'pcd1': 'downsampled/04/000075.npy'},\n",
       " {'seq_id': 4,\n",
       "  'frame0': 75,\n",
       "  'frame1': 125,\n",
       "  'p1_transform': array([[ 0.274723  , -0.960998  ,  0.0317688 , -0.14286   ],\n",
       "         [ 0.961522  ,  0.274515  , -0.010813  , -0.440052  ],\n",
       "         [ 0.00167028,  0.033517  ,  0.999437  ,  0.162578  ],\n",
       "         [ 0.        ,  0.        ,  0.        ,  1.        ]]),\n",
       "  'p2_transform': array([[ 0.272614 , -0.962053 ,  0.0116624, -0.468947 ],\n",
       "         [ 0.961504 ,  0.271983 , -0.0391916, -1.38016  ],\n",
       "         [ 0.0345324,  0.0218976,  0.999164 ,  0.16234  ],\n",
       "         [ 0.       ,  0.       ,  0.       ,  1.       ]]),\n",
       "  'transform': array([[ 9.99458190e-01, -2.74381367e-03, -3.28107917e-02,\n",
       "          -9.93518445e-01],\n",
       "         [ 3.12324468e-03,  9.99929334e-01,  1.15227179e-02,\n",
       "           5.52872252e-02],\n",
       "         [ 3.27767965e-02, -1.16189900e-02,  9.99395256e-01,\n",
       "          -4.31851071e-04],\n",
       "         [ 0.00000000e+00,  0.00000000e+00,  0.00000000e+00,\n",
       "           1.00000000e+00]]),\n",
       "  'pcd0': 'downsampled/04/000075.npy',\n",
       "  'pcd1': 'downsampled/04/000125.npy'},\n",
       " {'seq_id': 4,\n",
       "  'frame0': 125,\n",
       "  'frame1': 175,\n",
       "  'p1_transform': array([[ 0.272614 , -0.962053 ,  0.0116624, -0.468947 ],\n",
       "         [ 0.961504 ,  0.271983 , -0.0391916, -1.38016  ],\n",
       "         [ 0.0345324,  0.0218976,  0.999164 ,  0.16234  ],\n",
       "         [ 0.       ,  0.       ,  0.       ,  1.       ]]),\n",
       "  'p2_transform': array([[ 0.314227  , -0.949313  , -0.00816319, -1.32785   ],\n",
       "         [ 0.949255  ,  0.314065  ,  0.0166445 , -4.126     ],\n",
       "         [-0.0132371 , -0.0129791 ,  0.999828  ,  0.152726  ],\n",
       "         [ 0.        ,  0.        ,  0.        ,  1.        ]]),\n",
       "  'transform': array([[ 0.99791722,  0.0427307 ,  0.0483048 , -2.87461474],\n",
       "         [-0.04441146,  0.99842533,  0.03427428,  0.0792773 ],\n",
       "         [-0.04676417, -0.0363482 ,  0.99824393,  0.08799092],\n",
       "         [ 0.        ,  0.        ,  0.        ,  1.        ]]),\n",
       "  'pcd0': 'downsampled/04/000125.npy',\n",
       "  'pcd1': 'downsampled/04/000175.npy'}]"
      ]
     },
     "execution_count": 16,
     "metadata": {},
     "output_type": "execute_result"
    }
   ],
   "source": [
    "test_pkl[0:3]"
   ]
  },
  {
   "cell_type": "code",
   "execution_count": 7,
   "metadata": {},
   "outputs": [],
   "source": [
    "gt_transforms = pd.read_csv('data/Rellis/sequences/04/poses.txt', header=None, sep=' ')"
   ]
  },
  {
   "cell_type": "code",
   "execution_count": 21,
   "metadata": {},
   "outputs": [
    {
     "data": {
      "text/plain": [
       "array([[ True,  True,  True,  True],\n",
       "       [ True,  True,  True,  True],\n",
       "       [ True,  True,  True,  True],\n",
       "       [ True,  True,  True,  True]])"
      ]
     },
     "execution_count": 21,
     "metadata": {},
     "output_type": "execute_result"
    }
   ],
   "source": [
    "test_pkl[0]['p1_transform'] == np.concatenate([gt_transforms.iloc[25].to_numpy().reshape(3,4), np.array([[0,0,0,1]])], axis=0)\n",
    "test_pkl[0]['p2_transform'] == np.concatenate([gt_transforms.iloc[75].to_numpy().reshape(3,4), np.array([[0,0,0,1]])], axis=0)"
   ]
  },
  {
   "cell_type": "code",
   "execution_count": null,
   "metadata": {},
   "outputs": [],
   "source": [
    "t1 = test_pkl[0]['p1_transform']\n",
    "t2 = test_pkl[0]['p2_transform']\n",
    "t3 = test_pkl[1]['p2_transform']\n",
    "\n",
    "T = np.linalg.inv(t1) @ t2\n",
    "T2 = np.linalg.inv(t2) @ t3\n",
    "\n",
    "t2_recon = t1 @ T\n",
    "t3_recon = t2_recon @ T2\n",
    "\n",
    "t2, t2_recon, t3, t3_recon"
   ]
  },
  {
   "cell_type": "code",
   "execution_count": 8,
   "metadata": {},
   "outputs": [],
   "source": [
    "gt = test_pkl[0]['p1_transform']\n",
    "\n",
    "for transform in test_pkl:\n",
    "    gt = gt @ transform['transform']"
   ]
  },
  {
   "cell_type": "code",
   "execution_count": 17,
   "metadata": {},
   "outputs": [
    {
     "data": {
      "text/plain": [
       "(array([[ True,  True,  True,  True],\n",
       "        [ True,  True,  True,  True],\n",
       "        [ True,  True,  True,  True],\n",
       "        [ True,  True,  True,  True]]),\n",
       " array([[ True,  True,  True,  True],\n",
       "        [ True,  True,  True,  True],\n",
       "        [ True,  True,  True,  True],\n",
       "        [ True,  True,  True,  True]]))"
      ]
     },
     "execution_count": 17,
     "metadata": {},
     "output_type": "execute_result"
    }
   ],
   "source": [
    "gt.astype(np.float32)==test_pkl[-1]['p2_transform'].astype(np.float32), gt.astype(np.float32) == np.concatenate([gt_transforms.iloc[2025].to_numpy().reshape(3,4), np.array([[0,0,0,1]])], axis=0).astype(np.float32)"
   ]
  },
  {
   "cell_type": "code",
   "execution_count": 15,
   "metadata": {},
   "outputs": [
    {
     "data": {
      "text/plain": [
       "array([[ 5.39052e-01,  8.42228e-01,  8.61829e-03,  5.23655e+01],\n",
       "       [-8.40897e-01,  5.37559e-01,  6.26386e-02, -2.06677e+02],\n",
       "       [ 4.81232e-02, -4.10125e-02,  9.97999e-01,  1.10181e+00],\n",
       "       [ 0.00000e+00,  0.00000e+00,  0.00000e+00,  1.00000e+00]])"
      ]
     },
     "execution_count": 15,
     "metadata": {},
     "output_type": "execute_result"
    }
   ],
   "source": [
    "np.concatenate([gt_transforms.iloc[2025].to_numpy().reshape(3,4), np.array([[0,0,0,1]])], axis=0)"
   ]
  },
  {
   "cell_type": "code",
   "execution_count": 9,
   "metadata": {},
   "outputs": [
    {
     "data": {
      "text/plain": [
       "{'seq_id': 4,\n",
       " 'frame0': 1975,\n",
       " 'frame1': 2025,\n",
       " 'p1_transform': array([[ 5.45210e-01,  8.38285e-01,  4.80935e-03,  5.23804e+01],\n",
       "        [-8.36425e-01,  5.43599e-01,  6.99586e-02, -2.06662e+02],\n",
       "        [ 5.60309e-02, -4.21648e-02,  9.97538e-01,  1.10878e+00],\n",
       "        [ 0.00000e+00,  0.00000e+00,  0.00000e+00,  1.00000e+00]]),\n",
       " 'p2_transform': array([[ 5.39052e-01,  8.42228e-01,  8.61829e-03,  5.23655e+01],\n",
       "        [-8.40897e-01,  5.37559e-01,  6.26386e-02, -2.06677e+02],\n",
       "        [ 4.81232e-02, -4.10125e-02,  9.97999e-01,  1.10181e+00],\n",
       "        [ 0.00000e+00,  0.00000e+00,  0.00000e+00,  1.00000e+00]]),\n",
       " 'transform': array([[ 9.99940006e-01,  7.26633310e-03,  8.22513111e-03,\n",
       "          4.03218981e-03],\n",
       "        [-7.25971063e-03,  9.99973440e-01, -8.05597899e-04,\n",
       "         -2.03505491e-02],\n",
       "        [-8.23070675e-03,  7.45877279e-04,  9.99966087e-01,\n",
       "         -8.07388196e-03],\n",
       "        [ 0.00000000e+00,  0.00000000e+00,  0.00000000e+00,\n",
       "          1.00000000e+00]]),\n",
       " 'pcd0': 'downsampled/04/001975.npy',\n",
       " 'pcd1': 'downsampled/04/002025.npy'}"
      ]
     },
     "execution_count": 9,
     "metadata": {},
     "output_type": "execute_result"
    }
   ],
   "source": [
    "test_pkl[-1]"
   ]
  }
 ],
 "metadata": {
  "kernelspec": {
   "display_name": "Python 3",
   "language": "python",
   "name": "python3"
  },
  "language_info": {
   "codemirror_mode": {
    "name": "ipython",
    "version": 3
   },
   "file_extension": ".py",
   "mimetype": "text/x-python",
   "name": "python",
   "nbconvert_exporter": "python",
   "pygments_lexer": "ipython3",
   "version": "3.8.18"
  }
 },
 "nbformat": 4,
 "nbformat_minor": 2
}
