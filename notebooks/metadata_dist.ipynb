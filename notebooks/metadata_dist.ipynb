{
 "cells": [
  {
   "cell_type": "code",
   "execution_count": 3,
   "metadata": {},
   "outputs": [],
   "source": [
    "import pickle\n",
    "import numpy as np"
   ]
  },
  {
   "cell_type": "code",
   "execution_count": 5,
   "metadata": {},
   "outputs": [],
   "source": [
    "def calculate_distance(matrix1, matrix2):\n",
    "    # Extract the translation components from the 4x4 matrices\n",
    "    translation1 = matrix1[:3, 3]\n",
    "    translation2 = matrix2[:3, 3]\n",
    "    \n",
    "    # Calculate the Euclidean distance between the translation vectors\n",
    "    distance = np.linalg.norm(translation1 - translation2)\n",
    "    \n",
    "    return distance"
   ]
  },
  {
   "cell_type": "code",
   "execution_count": 9,
   "metadata": {},
   "outputs": [
    {
     "name": "stdout",
     "output_type": "stream",
     "text": [
      "3.721539376204232\n"
     ]
    }
   ],
   "source": [
    "metadata_file_path = \"/project/bli4/maps/wacv/GeoTransformer/data/Rellis/metadata/train.pkl\"\n",
    "with open(metadata_file_path, 'rb') as file:\n",
    "    metadata = pickle.load(file)\n",
    "    \n",
    "    avg_dist = []\n",
    "    for item in metadata:\n",
    "        transform = item['transform']\n",
    "        distance = calculate_distance(transform, np.eye(4))\n",
    "        avg_dist.append(distance)\n",
    "    \n",
    "    avg_dist = np.mean(avg_dist)\n",
    "    print(avg_dist)"
   ]
  },
  {
   "cell_type": "code",
   "execution_count": 10,
   "metadata": {},
   "outputs": [
    {
     "name": "stdout",
     "output_type": "stream",
     "text": [
      "9.307910750910573\n"
     ]
    }
   ],
   "source": [
    "metadata_file_path = \"/project/bli4/maps/wacv/GeoTransformer/data/Kitti/metadata/train.pkl\"\n",
    "with open(metadata_file_path, 'rb') as file:\n",
    "    metadata = pickle.load(file)\n",
    "    \n",
    "    avg_dist = []\n",
    "    for item in metadata:\n",
    "        transform = item['transform']\n",
    "        distance = calculate_distance(transform, np.eye(4))\n",
    "        avg_dist.append(distance)\n",
    "    \n",
    "    avg_dist = np.mean(avg_dist)\n",
    "    print(avg_dist)"
   ]
  }
 ],
 "metadata": {
  "kernelspec": {
   "display_name": "geotransformer",
   "language": "python",
   "name": "python3"
  },
  "language_info": {
   "codemirror_mode": {
    "name": "ipython",
    "version": 3
   },
   "file_extension": ".py",
   "mimetype": "text/x-python",
   "name": "python",
   "nbconvert_exporter": "python",
   "pygments_lexer": "ipython3",
   "version": "3.8.18"
  }
 },
 "nbformat": 4,
 "nbformat_minor": 2
}
