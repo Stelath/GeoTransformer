{
 "cells": [
  {
   "cell_type": "code",
   "execution_count": 6,
   "metadata": {},
   "outputs": [],
   "source": [
    "import numpy as np\n",
    "from tqdm import tqdm"
   ]
  },
  {
   "cell_type": "code",
   "execution_count": 2,
   "metadata": {},
   "outputs": [],
   "source": [
    "def load_from_bin(bin_path):\n",
    "    obj = np.fromfile(bin_path, dtype=np.float32).reshape(-1, 4)\n",
    "    return obj[:,:3]"
   ]
  },
  {
   "cell_type": "code",
   "execution_count": 7,
   "metadata": {},
   "outputs": [],
   "source": [
    "sequence_id = 0\n",
    "scan_id = 1000\n",
    "\n",
    "downsampled_pcd = np.load(f'../data/Rellis/downsampled/{sequence_id:02}/{scan_id:06}.npy')\n",
    "pcd = load_from_bin(f'../data/Rellis/sequences/{sequence_id:02}/os1_cloud_node_kitti_bin/{scan_id:06}.bin')"
   ]
  },
  {
   "cell_type": "code",
   "execution_count": 8,
   "metadata": {},
   "outputs": [
    {
     "data": {
      "text/plain": [
       "((16986, 3), (131072, 3))"
      ]
     },
     "execution_count": 8,
     "metadata": {},
     "output_type": "execute_result"
    }
   ],
   "source": [
    "downsampled_pcd.shape, pcd.shape"
   ]
  },
  {
   "cell_type": "code",
   "execution_count": 10,
   "metadata": {},
   "outputs": [
    {
     "name": "stderr",
     "output_type": "stream",
     "text": [
      "  9%|▉         | 93/1000 [00:00<00:00, 924.18it/s]"
     ]
    },
    {
     "name": "stderr",
     "output_type": "stream",
     "text": [
      "100%|██████████| 1000/1000 [00:01<00:00, 701.10it/s]"
     ]
    },
    {
     "name": "stdout",
     "output_type": "stream",
     "text": [
      "24359 131072\n"
     ]
    },
    {
     "name": "stderr",
     "output_type": "stream",
     "text": [
      "\n"
     ]
    }
   ],
   "source": [
    "largest_count_downsampled = 0\n",
    "largest_count_pcd = 0\n",
    "\n",
    "for i in tqdm(range(1000)):\n",
    "    scan_id = i\n",
    "\n",
    "    downsampled_pcd = np.load(f'../data/Rellis/downsampled/{sequence_id:02}/{scan_id:06}.npy')\n",
    "    pcd = load_from_bin(f'../data/Rellis/sequences/{sequence_id:02}/os1_cloud_node_kitti_bin/{scan_id:06}.bin')\n",
    "    \n",
    "    if downsampled_pcd.shape[0] > largest_count_downsampled:\n",
    "        largest_count_downsampled = downsampled_pcd.shape[0]\n",
    "    \n",
    "    if pcd.shape[0] > largest_count_pcd:\n",
    "        largest_count_pcd = pcd.shape[0]\n",
    "\n",
    "print(largest_count_downsampled, largest_count_pcd)"
   ]
  },
  {
   "cell_type": "code",
   "execution_count": null,
   "metadata": {},
   "outputs": [],
   "source": []
  }
 ],
 "metadata": {
  "kernelspec": {
   "display_name": "ml",
   "language": "python",
   "name": "python3"
  },
  "language_info": {
   "codemirror_mode": {
    "name": "ipython",
    "version": 3
   },
   "file_extension": ".py",
   "mimetype": "text/x-python",
   "name": "python",
   "nbconvert_exporter": "python",
   "pygments_lexer": "ipython3",
   "version": "3.9.18"
  }
 },
 "nbformat": 4,
 "nbformat_minor": 2
}
